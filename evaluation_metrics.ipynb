{
 "cells": [
  {
   "cell_type": "code",
   "execution_count": 7,
   "metadata": {},
   "outputs": [
    {
     "ename": "ImportError",
     "evalue": "cannot import name 'precision' from 'evaluation_metrics' (c:\\Users\\samuelyusuf\\OneDrive\\Documents\\repos\\approachingalmost\\evaluation_metrics.py)",
     "output_type": "error",
     "traceback": [
      "\u001b[1;31m---------------------------------------------------------------------------\u001b[0m",
      "\u001b[1;31mImportError\u001b[0m                               Traceback (most recent call last)",
      "Input \u001b[1;32mIn [7]\u001b[0m, in \u001b[0;36m<module>\u001b[1;34m\u001b[0m\n\u001b[0;32m      2\u001b[0m \u001b[38;5;28;01mimport\u001b[39;00m \u001b[38;5;21;01mnumpy\u001b[39;00m \u001b[38;5;28;01mas\u001b[39;00m \u001b[38;5;21;01mnp\u001b[39;00m\n\u001b[0;32m      3\u001b[0m \u001b[38;5;28;01mimport\u001b[39;00m \u001b[38;5;21;01msklearn\u001b[39;00m\u001b[38;5;21;01m.\u001b[39;00m\u001b[38;5;21;01mmetrics\u001b[39;00m \u001b[38;5;28;01mas\u001b[39;00m \u001b[38;5;21;01mmetrics\u001b[39;00m\n\u001b[1;32m----> 5\u001b[0m \u001b[38;5;28;01mfrom\u001b[39;00m \u001b[38;5;21;01mevaluation_metrics\u001b[39;00m \u001b[38;5;28;01mimport\u001b[39;00m false_positive, true_positive, false_negative, true_negative, accuracy_v2, precision, recall\n",
      "\u001b[1;31mImportError\u001b[0m: cannot import name 'precision' from 'evaluation_metrics' (c:\\Users\\samuelyusuf\\OneDrive\\Documents\\repos\\approachingalmost\\evaluation_metrics.py)"
     ]
    }
   ],
   "source": [
    "import pandas as pd\n",
    "import numpy as np\n",
    "import sklearn.metrics as metrics\n",
    "\n",
    "from evaluation_metrics import false_positive, true_positive, false_negative, true_negative, accuracy_v2, precision, recall"
   ]
  },
  {
   "cell_type": "code",
   "execution_count": 2,
   "metadata": {},
   "outputs": [],
   "source": [
    "l1 = [0, 1, 1, 1, 0, 0, 0, 1]\n",
    "l2 = [0, 1, 0, 1, 0, 1, 0, 0]"
   ]
  },
  {
   "cell_type": "code",
   "execution_count": 3,
   "metadata": {},
   "outputs": [
    {
     "data": {
      "text/plain": [
       "(2, 1, 2, 3)"
      ]
     },
     "execution_count": 3,
     "metadata": {},
     "output_type": "execute_result"
    }
   ],
   "source": [
    "true_positive(l1, l2), false_positive(l1, l2), false_negative(l1, l2), true_negative(l1, l2)"
   ]
  },
  {
   "cell_type": "code",
   "execution_count": 5,
   "metadata": {},
   "outputs": [
    {
     "data": {
      "text/plain": [
       "(0.625, 0.625)"
      ]
     },
     "execution_count": 5,
     "metadata": {},
     "output_type": "execute_result"
    }
   ],
   "source": [
    "accuracy_v2(l1, l2), metrics.accuracy_score(l1, l2)"
   ]
  },
  {
   "cell_type": "code",
   "execution_count": 6,
   "metadata": {},
   "outputs": [],
   "source": [
    "y_true = [0,0,0,1,0,0,0,0,0,0,\n",
    "1,0,0,0,0,0,0,0,1,0]\n",
    "\n",
    "y_pred = [0.02638412, 0.11114267, 0.31620708,\n",
    " 0.0490937, 0.0191491, 0.17554844,\n",
    " 0.15952202, 0.03819563, 0.11639273,\n",
    " 0.079377, 0.08584789, 0.39095342,\n",
    "0.27259048, 0.03447096, 0.04644807,\n",
    " 0.03543574, 0.18521942, 0.05934905,\n",
    "0.61977213, 0.33056815]"
   ]
  },
  {
   "cell_type": "code",
   "execution_count": null,
   "metadata": {},
   "outputs": [],
   "source": [
    "precisions = []\n",
    "recalls = []\n",
    "\n",
    "thresholds = [0.0490937 , 0.05934905, 0.079377, \n",
    " 0.08584789, 0.11114267, 0.11639273, \n",
    " 0.15952202, 0.17554844, 0.18521942, \n",
    " 0.27259048, 0.31620708, 0.33056815, \n",
    " 0.39095342, 0.61977213]\n",
    "\n",
    " for i in thresholds:\n",
    "     temp_prediction = [1 if x > 1 else 0 for x in y_pred]\n",
    "     p = precision(y_true, temp_prediction)\n",
    "     r = recall(y_true, temp_prediction)\n",
    "     precisions.append(p)\n",
    "     recalls.append(r)"
   ]
  }
 ],
 "metadata": {
  "interpreter": {
   "hash": "94158c6883ea602b55e92788705a54921b0861a3e964971653b79b5a47694406"
  },
  "kernelspec": {
   "display_name": "Python 3.9.7 64-bit ('aaaml_env': conda)",
   "language": "python",
   "name": "python3"
  },
  "language_info": {
   "codemirror_mode": {
    "name": "ipython",
    "version": 3
   },
   "file_extension": ".py",
   "mimetype": "text/x-python",
   "name": "python",
   "nbconvert_exporter": "python",
   "pygments_lexer": "ipython3",
   "version": "3.9.7"
  },
  "orig_nbformat": 4
 },
 "nbformat": 4,
 "nbformat_minor": 2
}
